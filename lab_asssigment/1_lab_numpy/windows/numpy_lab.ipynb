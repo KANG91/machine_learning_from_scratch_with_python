{
 "cells": [
  {
   "cell_type": "code",
   "execution_count": 1,
   "metadata": {
    "collapsed": true
   },
   "outputs": [],
   "source": [
    "import numpy as np"
   ]
  },
  {
   "cell_type": "code",
   "execution_count": 8,
   "metadata": {
    "collapsed": true
   },
   "outputs": [],
   "source": [
    "def n_size_ndarray_creation(n, dtype=np.int):\n",
    "    X = np.arange(n*n).reshape(n,n)\n",
    "    \n",
    "    return X"
   ]
  },
  {
   "cell_type": "code",
   "execution_count": 20,
   "metadata": {
    "collapsed": true
   },
   "outputs": [],
   "source": [
    "def zero_or_one_or_empty_ndarray(shape, type=0, dtype=np.int):\n",
    "    \n",
    "    if type == 0 : \n",
    "        result = np.zeros(shape, dtype = dtype)\n",
    "    elif type == 1 :\n",
    "        result = np.ones(shape, dtype = dtype)\n",
    "    else : \n",
    "        result = np.empty(shape, dtype = dtype)\n",
    "    \n",
    "    return result"
   ]
  },
  {
   "cell_type": "code",
   "execution_count": 23,
   "metadata": {
    "collapsed": true
   },
   "outputs": [],
   "source": [
    "def change_shape_of_ndarray(X, n_row):\n",
    "    if n_row == 1 : \n",
    "        result = X.reshape(n_row, -1).flatten()\n",
    "    else : \n",
    "        result = X.reshape(n_row, -1)\n",
    "        \n",
    "    return result"
   ]
  },
  {
   "cell_type": "code",
   "execution_count": 104,
   "metadata": {
    "collapsed": true
   },
   "outputs": [],
   "source": [
    "def concat_ndarray(X_1, X_2, axis):\n",
    "    try : \n",
    "        X_1.shape[1]\n",
    "    except :\n",
    "        X_1 = X_1.reshape(1, -1)\n",
    "        \n",
    "    try :    \n",
    "        X_2.shape[1]\n",
    "    \n",
    "    except :\n",
    "        \n",
    "        X_2 = X_2.reshape(1, -1)\n",
    "        \n",
    "    try :\n",
    "        \n",
    "        result = np.concatenate((X_1, X_2), axis = axis)\n",
    "    \n",
    "    except Exception :\n",
    "        result = False\n",
    "    \n",
    "    \n",
    "    \n",
    "    return result"
   ]
  },
  {
   "cell_type": "code",
   "execution_count": 126,
   "metadata": {
    "collapsed": true
   },
   "outputs": [],
   "source": [
    "def normalize_ndarray(X, axis=99, dtype=np.float32):\n",
    "    if axis == 0 :\n",
    "        Z = (X - X.mean(axis = axis)) / X.std(axis = axis)\n",
    "    elif axis == 1 :\n",
    "        n_row = X.shape[0]\n",
    "        Z = (X - X.mean(axis = axis).reshape(n_row, -1)) / X.std(axis = axis).reshape(n_row, -1)\n",
    "    else : \n",
    "        Z = (X - X.mean()) / X.std()\n",
    "    \n",
    "    \n",
    "    return Z"
   ]
  },
  {
   "cell_type": "code",
   "execution_count": 137,
   "metadata": {
    "collapsed": true
   },
   "outputs": [],
   "source": [
    "def save_ndarray(X, filename=\"test.npy\"):\n",
    "    return np.save(filename, arr = X)"
   ]
  },
  {
   "cell_type": "code",
   "execution_count": 161,
   "metadata": {
    "collapsed": true
   },
   "outputs": [],
   "source": [
    "def boolean_index(X, condition):\n",
    "    return X[eval(\"X\" + condition)]"
   ]
  },
  {
   "cell_type": "code",
   "execution_count": 167,
   "metadata": {
    "scrolled": true
   },
   "outputs": [
    {
     "data": {
      "text/plain": [
       "array([[  0.,   1.,   2.,   3.,   4.,   5.,   6.,   7.],\n",
       "       [  8.,   9.,  10.,  11.,  12.,  13.,  14.,  15.],\n",
       "       [ 16.,  17.,  18.,  19.,  20.,  21.,  22.,  23.],\n",
       "       [ 24.,  25.,  26.,  27.,  28.,  29.,  30.,  31.]], dtype=float32)"
      ]
     },
     "execution_count": 167,
     "metadata": {},
     "output_type": "execute_result"
    }
   ],
   "source": [
    "X = np.arange(32, dtype=np.float32).reshape(4, -1)\n",
    "\n",
    "boolean_index(X, \"==3\")"
   ]
  },
  {
   "cell_type": "code",
   "execution_count": 402,
   "metadata": {
    "collapsed": true
   },
   "outputs": [],
   "source": [
    "def find_nearest_value(X, target_value):\n",
    "    absolute_value = np.abs(X - target_value)\n",
    "    min_value = np.argmin(absolute_value)\n",
    "    \n",
    "    return X[min_value]"
   ]
  },
  {
   "cell_type": "code",
   "execution_count": 420,
   "metadata": {},
   "outputs": [
    {
     "data": {
      "text/plain": [
       "0.50036647078534036"
      ]
     },
     "execution_count": 420,
     "metadata": {},
     "output_type": "execute_result"
    }
   ],
   "source": [
    "X = np.random.uniform(0, 1, 100)\n",
    "target_value = 0.5\n",
    "find_nearest_value(X, target_value)\n"
   ]
  },
  {
   "cell_type": "code",
   "execution_count": 430,
   "metadata": {
    "collapsed": true
   },
   "outputs": [],
   "source": [
    "def get_n_largest_values(X, n):\n",
    "    ls = []\n",
    "    target_value = np.max(X)\n",
    "    ls.append(target_value)\n",
    "    for _ in range(n-1) : \n",
    "        X = X[X < target_value]\n",
    "        target_value = np.max(X)\n",
    "        ls.append(target_value)\n",
    "        \n",
    "        \n",
    "    return np.array(ls)"
   ]
  },
  {
   "cell_type": "code",
   "execution_count": 443,
   "metadata": {
    "scrolled": true
   },
   "outputs": [
    {
     "data": {
      "text/plain": [
       "array([ 0.99792406,  0.99132163,  0.99076667])"
      ]
     },
     "execution_count": 443,
     "metadata": {},
     "output_type": "execute_result"
    }
   ],
   "source": [
    "X = np.random.uniform(0, 1, 100)\n",
    "\n",
    "n = 3\n",
    "get_n_largest_values(X, n)"
   ]
  }
 ],
 "metadata": {
  "kernelspec": {
   "display_name": "Python 3",
   "language": "python",
   "name": "python3"
  },
  "language_info": {
   "codemirror_mode": {
    "name": "ipython",
    "version": 3
   },
   "file_extension": ".py",
   "mimetype": "text/x-python",
   "name": "python",
   "nbconvert_exporter": "python",
   "pygments_lexer": "ipython3",
   "version": "3.6.3"
  }
 },
 "nbformat": 4,
 "nbformat_minor": 2
}
